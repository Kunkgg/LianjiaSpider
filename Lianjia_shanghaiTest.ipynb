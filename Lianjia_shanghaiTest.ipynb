{
 "cells": [
  {
   "cell_type": "code",
   "execution_count": 3,
   "metadata": {},
   "outputs": [],
   "source": [
    "import requests\n",
    "from lxml import html\n",
    "import re\n",
    "import string"
   ]
  },
  {
   "cell_type": "code",
   "execution_count": 2,
   "metadata": {},
   "outputs": [
    {
     "data": {
      "text/plain": [
       "200"
      ]
     },
     "execution_count": 2,
     "metadata": {},
     "output_type": "execute_result"
    }
   ],
   "source": [
    "detail_url = \"https://sh.fang.lianjia.com/loupan/p_aafip/\"\n",
    "detail_res = requests.get(detail_url)\n",
    "detail_res.status_code"
   ]
  },
  {
   "cell_type": "code",
   "execution_count": 4,
   "metadata": {},
   "outputs": [],
   "source": [
    "detail_tree = html.fromstring(detail_res.text)"
   ]
  },
  {
   "cell_type": "code",
   "execution_count": 64,
   "metadata": {},
   "outputs": [],
   "source": [
    "detail_texts = detail_tree.xpath(\"//div[@id='house-details']//text()\")\n",
    "\n",
    "jiage = detail_tree.xpath(\"//p[@class='jiage']//text()\")\n",
    "\n",
    "clean_whitespace = re.compile(r'[ \\t\\n\\r\\x0b\\x0c]*')\n",
    "\n",
    "details = [clean_whitespace.sub('',feild) for feild in detail_texts if clean_whitespace.sub('',feild)]\n",
    "\n",
    "price = [clean_whitespace.sub('',feild) for feild in jiage if clean_whitespace.sub('',feild)]"
   ]
  },
  {
   "cell_type": "code",
   "execution_count": 65,
   "metadata": {},
   "outputs": [
    {
     "data": {
      "text/plain": [
       "['楼盘详情',\n",
       " '项目地址：',\n",
       " '闵行-都会路3799号',\n",
       " '售楼处地址：',\n",
       " '金都路2888号（近金都路）（接待时间9:30-15:00）',\n",
       " '开发商：',\n",
       " '上海金色紫都房地产有限公司',\n",
       " '物业公司：',\n",
       " '星河湾物业管理有限公司',\n",
       " '最新开盘：',\n",
       " '2016年05月28日',\n",
       " '物业类型：',\n",
       " '住宅',\n",
       " '交房时间：',\n",
       " '2018年03月',\n",
       " '容积率：',\n",
       " '1.40',\n",
       " '产权年限：',\n",
       " '70年',\n",
       " '绿化率：',\n",
       " '35%',\n",
       " '规划户数：',\n",
       " '854',\n",
       " '物业费用：',\n",
       " '4.5元/m²/月',\n",
       " '车位情况：',\n",
       " '地下车位数1078',\n",
       " '供暖方式：',\n",
       " '暂无',\n",
       " '供水方式：',\n",
       " '民水',\n",
       " '供电方式：',\n",
       " '民电',\n",
       " '建筑类型：',\n",
       " '板楼',\n",
       " '嫌恶设施：',\n",
       " '暂无',\n",
       " '占地面积：',\n",
       " '714,300㎡',\n",
       " '建筑面积：',\n",
       " '653,000㎡',\n",
       " '查看更多']"
      ]
     },
     "execution_count": 65,
     "metadata": {},
     "output_type": "execute_result"
    }
   ],
   "source": [
    "details"
   ]
  },
  {
   "cell_type": "code",
   "execution_count": 66,
   "metadata": {},
   "outputs": [
    {
     "data": {
      "text/plain": [
       "['均价', '76500', '元/平', '别名/闵行星河湾']"
      ]
     },
     "execution_count": 66,
     "metadata": {},
     "output_type": "execute_result"
    }
   ],
   "source": [
    "price"
   ]
  },
  {
   "cell_type": "code",
   "execution_count": 71,
   "metadata": {},
   "outputs": [],
   "source": [
    "name = detail_tree.xpath(\"//a[@class='clear']\")[0]"
   ]
  },
  {
   "cell_type": "code",
   "execution_count": 72,
   "metadata": {},
   "outputs": [
    {
     "data": {
      "text/plain": [
       "'上海星河湾'"
      ]
     },
     "execution_count": 72,
     "metadata": {},
     "output_type": "execute_result"
    }
   ],
   "source": [
    "name.get('title')"
   ]
  },
  {
   "cell_type": "markdown",
   "metadata": {},
   "source": [
    "# 楼盘列表"
   ]
  },
  {
   "cell_type": "code",
   "execution_count": 47,
   "metadata": {},
   "outputs": [
    {
     "data": {
      "text/plain": [
       "200"
      ]
     },
     "execution_count": 47,
     "metadata": {},
     "output_type": "execute_result"
    }
   ],
   "source": [
    "index_url = 'https://sh.fang.lianjia.com/loupan/pg1/'\n",
    "index_res = requests.get(index_url)\n",
    "index_res.status_code"
   ]
  },
  {
   "cell_type": "code",
   "execution_count": 48,
   "metadata": {},
   "outputs": [],
   "source": [
    "index_tree = html.fromstring(index_res.text)"
   ]
  },
  {
   "cell_type": "code",
   "execution_count": 54,
   "metadata": {},
   "outputs": [],
   "source": [
    "loupan_tags_element = index_tree.xpath('//a[@class=\"name\"]')"
   ]
  },
  {
   "cell_type": "code",
   "execution_count": 53,
   "metadata": {},
   "outputs": [
    {
     "data": {
      "text/plain": [
       "10"
      ]
     },
     "execution_count": 53,
     "metadata": {},
     "output_type": "execute_result"
    }
   ],
   "source": [
    "len(loupan_tags)"
   ]
  },
  {
   "cell_type": "code",
   "execution_count": 55,
   "metadata": {},
   "outputs": [],
   "source": [
    "loupan_tags = [e.get('href') for e in loupan_tags_element]"
   ]
  },
  {
   "cell_type": "code",
   "execution_count": 57,
   "metadata": {},
   "outputs": [
    {
     "data": {
      "text/plain": [
       "['/loupan/p_aafip/',\n",
       " '/loupan/p_xcssabnih/',\n",
       " '/loupan/p_aapjb/',\n",
       " '/loupan/p_ljssyzabney/',\n",
       " '/loupan/p_shxhzxxxmdabnfo/',\n",
       " '/loupan/p_aaffm/',\n",
       " '/loupan/p_aaghz/',\n",
       " '/loupan/p_aahck/',\n",
       " '/loupan/p_aagzb/',\n",
       " '/loupan/p_aahap/']"
      ]
     },
     "execution_count": 57,
     "metadata": {},
     "output_type": "execute_result"
    }
   ],
   "source": [
    "loupan_tags"
   ]
  },
  {
   "cell_type": "code",
   "execution_count": 58,
   "metadata": {},
   "outputs": [],
   "source": [
    "detail_url_root = \"https://sh.fang.lianjia.com\"\n",
    "detail_url_list = [detail_url_root + tag for tag in loupan_tags]"
   ]
  },
  {
   "cell_type": "code",
   "execution_count": 59,
   "metadata": {},
   "outputs": [],
   "source": [
    "index_url_root = 'https://sh.fang.lianjia.com/loupan/pg{}/'"
   ]
  },
  {
   "cell_type": "code",
   "execution_count": 63,
   "metadata": {},
   "outputs": [
    {
     "data": {
      "text/plain": [
       "'https://sh.fang.lianjia.com/loupan/pg1/'"
      ]
     },
     "execution_count": 63,
     "metadata": {},
     "output_type": "execute_result"
    }
   ],
   "source": [
    "index_url_root.format(1)"
   ]
  },
  {
   "cell_type": "markdown",
   "metadata": {},
   "source": [
    "# 二手房"
   ]
  },
  {
   "cell_type": "markdown",
   "metadata": {},
   "source": [
    "### 每条二手房信息抓取"
   ]
  },
  {
   "cell_type": "code",
   "execution_count": 104,
   "metadata": {},
   "outputs": [],
   "source": [
    "ershou_url = 'https://sh.lianjia.com/ershoufang/pg1/'\n",
    "res = requests.get(ershou_url)"
   ]
  },
  {
   "cell_type": "code",
   "execution_count": 105,
   "metadata": {},
   "outputs": [
    {
     "data": {
      "text/plain": [
       "200"
      ]
     },
     "execution_count": 105,
     "metadata": {},
     "output_type": "execute_result"
    }
   ],
   "source": [
    "res.status_code"
   ]
  },
  {
   "cell_type": "code",
   "execution_count": 106,
   "metadata": {},
   "outputs": [],
   "source": [
    "tree = html.fromstring(res.text)\n",
    "\n",
    "e = tree.xpath(\"//div[@class='info clear']\")"
   ]
  },
  {
   "cell_type": "code",
   "execution_count": 208,
   "metadata": {},
   "outputs": [],
   "source": [
    "t = e[0].xpath(\".//text()\")"
   ]
  },
  {
   "cell_type": "code",
   "execution_count": 209,
   "metadata": {
    "scrolled": true
   },
   "outputs": [
    {
     "data": {
      "text/plain": [
       "['11号线御桥路站+总价zui低两房+满五唯一+对口建平',\n",
       " '地杰国际城E欧泊时光 ',\n",
       " ' | 2室2厅 | 99.4平米 | 南 | 毛坯 | 有电梯',\n",
       " '低楼层(共18层)2007年建板楼  -  ',\n",
       " '御桥',\n",
       " '70人关注 / 共114次带看 / 一年前发布',\n",
       " '距离11号线御桥站515米',\n",
       " '房本满五年',\n",
       " '随时看房',\n",
       " '615',\n",
       " '万',\n",
       " '单价61872元/平米']"
      ]
     },
     "execution_count": 209,
     "metadata": {},
     "output_type": "execute_result"
    }
   ],
   "source": [
    "t"
   ]
  },
  {
   "cell_type": "code",
   "execution_count": 210,
   "metadata": {},
   "outputs": [
    {
     "data": {
      "text/plain": [
       "'11号线御桥路站+总价zui低两房+满五唯一+对口建平;地杰国际城E欧泊时光 ; | 2室2厅 | 99.4平米 | 南 | 毛坯 | 有电梯;低楼层(共18层)2007年建板楼  -  ;御桥;70人关注 / 共114次带看 / 一年前发布;距离11号线御桥站515米;房本满五年;随时看房;615;万;单价61872元/平米'"
      ]
     },
     "execution_count": 210,
     "metadata": {},
     "output_type": "execute_result"
    }
   ],
   "source": [
    "t = ';'.join(t)\n",
    "t"
   ]
  },
  {
   "cell_type": "code",
   "execution_count": 258,
   "metadata": {},
   "outputs": [],
   "source": [
    "Title = ['CommunityName','RoomType','Area(m2)','Pre-Price','Total-Price','Attention','Seen']"
   ]
  },
  {
   "cell_type": "code",
   "execution_count": 273,
   "metadata": {},
   "outputs": [],
   "source": [
    "def parse_2shoufang_info(element_text):\n",
    "    \"\"\"解析二手房信息元素\"\"\"\n",
    "    #logging.info('element_text:\\n{}'.format(';'.join(element_text)))\n",
    "    try:\n",
    "        if '房主自荐' in element_text:\n",
    "            flag_index = element_text.index('房主自荐') + 1        \n",
    "        elif '新上' in element_text:\n",
    "            flag_index = element_text.index('新上') + 1\n",
    "        else:\n",
    "            flag_index = 1\n",
    "        CommunityName = element_text[flag_index].strip()      \n",
    "        #logging.info('element_text[2]{}'.format(element_text[2]))\n",
    "        RoomType = element_text[flag_index + 1].strip().split('|',3)[1].strip()\n",
    "        Area = element_text[flag_index + 1].strip().split('|',3)[2][:-3]\n",
    "        Pre_Price = re.search(r'[\\d\\.]+',element_text[-1]).group(0)\n",
    "        Total_Price = element_text[-3]\n",
    "        #logging.info('element_text[5]{}'.format(element_text[5]))\n",
    "        for feild in element_text:\n",
    "            if '人关注' in feild:    \n",
    "                Attention,Seen = re.findall(r'[\\d]+',feild)[:2]\n",
    "        \n",
    "        return [CommunityName,RoomType,Area,Pre_Price,Total_Price,Attention,Seen]\n",
    "    except Exception as e:\n",
    "        print(e)\n",
    "        #logging.info('信息解析有误,报错{}'.format(e))\n",
    "        #logging.info('解析错误：{}'.format(element_text))\n",
    "        return None"
   ]
  },
  {
   "cell_type": "code",
   "execution_count": 111,
   "metadata": {},
   "outputs": [],
   "source": [
    "td = ' | 2室2厅 | 99.4平米 | 南 | 毛坯 | 有电梯'"
   ]
  },
  {
   "cell_type": "code",
   "execution_count": 114,
   "metadata": {},
   "outputs": [
    {
     "data": {
      "text/plain": [
       "True"
      ]
     },
     "execution_count": 114,
     "metadata": {},
     "output_type": "execute_result"
    }
   ],
   "source": [
    "td.strip().split('|',3)[1]"
   ]
  },
  {
   "cell_type": "code",
   "execution_count": 149,
   "metadata": {},
   "outputs": [],
   "source": [
    "tt = '70人关注 / 共114次带看 / 一年前发布'"
   ]
  },
  {
   "cell_type": "code",
   "execution_count": 154,
   "metadata": {},
   "outputs": [
    {
     "data": {
      "text/plain": [
       "['70', '114']"
      ]
     },
     "execution_count": 154,
     "metadata": {},
     "output_type": "execute_result"
    }
   ],
   "source": [
    "re.findall(r'[\\d\\.]+',tt)"
   ]
  },
  {
   "cell_type": "code",
   "execution_count": 205,
   "metadata": {},
   "outputs": [
    {
     "data": {
      "text/plain": [
       "['地杰国际城E欧泊时光', ' 2室2厅 ', ' 99.4平米 ', '61872', '70', '114']"
      ]
     },
     "execution_count": 205,
     "metadata": {},
     "output_type": "execute_result"
    }
   ],
   "source": [
    "ershoufang_info(t)"
   ]
  },
  {
   "cell_type": "code",
   "execution_count": 221,
   "metadata": {},
   "outputs": [],
   "source": [
    "t_zhabei_url = 'https://sh.lianjia.com/ershoufang/zhabei/'\n",
    "t_zhabei_res = requests.get(t_zhabei_url)\n",
    "t_zhabei_tree = html.fromstring(t_zhabei_res.text)\n",
    "t_zhabei_e = t_zhabei_tree.xpath(\"//div[@class='info clear']\")\n",
    "t_zhabei = t_zhabei_e[3].xpath(\".//text()\")"
   ]
  },
  {
   "cell_type": "code",
   "execution_count": 213,
   "metadata": {},
   "outputs": [
    {
     "data": {
      "text/plain": [
       "['稀 缺房源 中高区大三房 带车位 带学 区 去名急售',\n",
       " '慧芝湖花园 ',\n",
       " ' | 3室2厅 | 144平米 | 西南 | 精装 | 有电梯',\n",
       " '中楼层(共36层)2009年建板楼  -  ',\n",
       " '大宁',\n",
       " '9人关注 / 共11次带看 / 26天以前发布',\n",
       " '距离1号线上海马戏城站917米',\n",
       " '房本满五年',\n",
       " '1320',\n",
       " '万',\n",
       " '单价91667元/平米']"
      ]
     },
     "execution_count": 213,
     "metadata": {},
     "output_type": "execute_result"
    }
   ],
   "source": [
    "t_zhabei\n",
    "['11号线御桥路站+总价zui低两房+满五唯一+对口建平',\n",
    " '地杰国际城E欧泊时光 ',\n",
    " ' | 2室2厅 | 99.4平米 | 南 | 毛坯 | 有电梯',\n",
    " '低楼层(共18层)2007年建板楼  -  ',\n",
    " '御桥',\n",
    " '70人关注 / 共114次带看 / 一年前发布',\n",
    " '距离11号线御桥站515米',\n",
    " '房本满五年',\n",
    " '随时看房',\n",
    " '615',\n",
    " '万',\n",
    " '单价61872元/平米']"
   ]
  },
  {
   "cell_type": "code",
   "execution_count": 251,
   "metadata": {},
   "outputs": [
    {
     "data": {
      "text/plain": [
       "['彭五小区', ' 2室0厅 ', ' 48.02平米 ', '53728', '112', '76']"
      ]
     },
     "execution_count": 251,
     "metadata": {},
     "output_type": "execute_result"
    }
   ],
   "source": [
    "parse_2shoufang_info(t_zhabei)"
   ]
  },
  {
   "cell_type": "code",
   "execution_count": 255,
   "metadata": {},
   "outputs": [],
   "source": [
    "t0 = t_zhabei"
   ]
  },
  {
   "cell_type": "code",
   "execution_count": 252,
   "metadata": {},
   "outputs": [],
   "source": [
    "t1 = ['乍浦东方巴黎城 5室3厅 370万', '新上', '乍浦东方巴黎城 ', ' | 5室3厅 | 363.6平米 | 南 | 其他', '低楼层(共4层)暂无数据  -  ', '嘉兴', '0人关注 / 共0次带看 / 1天以前发布', '房本满五年', '370', '万', '单价10177元/平米']"
   ]
  },
  {
   "cell_type": "code",
   "execution_count": 253,
   "metadata": {},
   "outputs": [],
   "source": [
    "t2 = ['花桥绿地21城D区孝贤坊 2室1厅 175万', '新上', '房主自荐', '花桥绿地21城D区孝贤坊 ', ' | 2室1厅 | 81.26平米 | 南 | 精装', '高楼层(共11层)暂无数据  -  ', '昆山', '7人关注 / 共0次带看 / 2天以前发布', '175', '万', '单价21536元/平米']"
   ]
  },
  {
   "cell_type": "code",
   "execution_count": 254,
   "metadata": {},
   "outputs": [],
   "source": [
    "t3 = ['长泰淀湖观园 4室2厅 500万', '房主自荐', '长泰淀湖观园 ', ' | 4室2厅 | 229.66平米 | 南 | 精装', '低楼层(共1层)暂无数据  -  ', '昆山', '1人关注 / 共0次带看 / 1个月以前发布', '500', '万', '单价21772元/平米']"
   ]
  },
  {
   "cell_type": "code",
   "execution_count": 268,
   "metadata": {},
   "outputs": [
    {
     "name": "stdout",
     "output_type": "stream",
     "text": [
      "name 'Pre' is not defined\n"
     ]
    }
   ],
   "source": [
    "parse_2shoufang_info(t0)"
   ]
  },
  {
   "cell_type": "code",
   "execution_count": 274,
   "metadata": {},
   "outputs": [
    {
     "name": "stdout",
     "output_type": "stream",
     "text": [
      "['彭五小区', '2室0厅', ' 48.02', '53728', '258', '112', '76']\n",
      "['乍浦东方巴黎城', '5室3厅', ' 363.6', '10177', '370', '0', '0']\n",
      "['花桥绿地21城D区孝贤坊', '2室1厅', ' 81.26', '21536', '175', '7', '0']\n",
      "['长泰淀湖观园', '4室2厅', ' 229.66', '21772', '500', '1', '0']\n"
     ]
    }
   ],
   "source": [
    "for t in (t0,t1,t2,t3):\n",
    "    print(parse_2shoufang_info(t))"
   ]
  },
  {
   "cell_type": "markdown",
   "metadata": {},
   "source": [
    "### 获得二手房区域列表"
   ]
  },
  {
   "cell_type": "code",
   "execution_count": 155,
   "metadata": {},
   "outputs": [],
   "source": [
    "ERSHOUFANG_URL_ROOT = 'https://sh.lianjia.com/ershoufang/'\n",
    "root_res = requests.get(ERSHOUFANG_URL_ROOT)"
   ]
  },
  {
   "cell_type": "code",
   "execution_count": 156,
   "metadata": {},
   "outputs": [
    {
     "data": {
      "text/plain": [
       "200"
      ]
     },
     "execution_count": 156,
     "metadata": {},
     "output_type": "execute_result"
    }
   ],
   "source": [
    "root_res.status_code"
   ]
  },
  {
   "cell_type": "code",
   "execution_count": 188,
   "metadata": {},
   "outputs": [],
   "source": [
    "def get_areas_info(response):\n",
    "    \"\"\"提取页面中区域名称链接\"\"\"\n",
    "    area_elements = html.fromstring(root_res.text).xpath('//div[@data-role=\"ershoufang\"]/div//a[@href]')\n",
    "    areas_info = {}\n",
    "    for area_element in area_elements:\n",
    "        areas_info[area_element.text.strip()] = area_element.get('href').split('/')[-2] \n",
    "    return areas_info"
   ]
  },
  {
   "cell_type": "code",
   "execution_count": 240,
   "metadata": {},
   "outputs": [
    {
     "data": {
      "text/plain": [
       "{'九亭': 'jiuting',\n",
       " '佘山': 'sheshan',\n",
       " '叶榭': 'yexie',\n",
       " '小昆山': 'xiaokunshan',\n",
       " '新桥': 'xinqiao',\n",
       " '新浜': 'xinbang',\n",
       " '松江大学城': 'songjiangdaxuecheng',\n",
       " '松江新城': 'songjiangxincheng',\n",
       " '松江老城': 'songjianglaocheng',\n",
       " '泖港': 'maogang',\n",
       " '泗泾': 'sijing',\n",
       " '石湖荡': 'shihudang',\n",
       " '莘闵别墅': 'shenminbieshu',\n",
       " '车墩': 'chedun'}"
      ]
     },
     "execution_count": 240,
     "metadata": {},
     "output_type": "execute_result"
    }
   ],
   "source": [
    "area_url = 'https://sh.lianjia.com/ershoufang/songjiang/'\n",
    "area_res = requests.get(area_url)\n",
    "\n",
    "def get_subareas_info(area_res):\n",
    "    \"\"\"提取页面中子区域名称链接\"\"\"\n",
    "    subarea_elements = html.fromstring(area_res.text).xpath('//div[@data-role=\"ershoufang\"]/div[2]//a[@href]')\n",
    "    subareas_info = {}\n",
    "    for subarea_element in subarea_elements:\n",
    "        subareas_info[subarea_element.text.strip()] = subarea_element.get('href').split('/')[-2] \n",
    "    return subareas_info\n",
    "\n",
    "subareas_info = get_subareas_info(area_res)\n",
    "subareas_info"
   ]
  },
  {
   "cell_type": "code",
   "execution_count": 241,
   "metadata": {},
   "outputs": [
    {
     "name": "stdout",
     "output_type": "stream",
     "text": [
      "err urlhttps://sh.lianjia.com/ershoufang/maogang/\n",
      "err urlhttps://sh.lianjia.com/ershoufang/shihudang/\n",
      "err urlhttps://sh.lianjia.com/ershoufang/xiaokunshan/\n",
      "err urlhttps://sh.lianjia.com/ershoufang/xinbang/\n"
     ]
    }
   ],
   "source": [
    "subarea_over100p,subarea_in100p = pick_over100p_area(subareas_info)"
   ]
  },
  {
   "cell_type": "code",
   "execution_count": 244,
   "metadata": {},
   "outputs": [
    {
     "data": {
      "text/plain": [
       "{'九亭': ['25', 'https://sh.lianjia.com/ershoufang/jiuting/'],\n",
       " '佘山': ['4', 'https://sh.lianjia.com/ershoufang/sheshan/'],\n",
       " '叶榭': ['1', 'https://sh.lianjia.com/ershoufang/yexie/'],\n",
       " '新桥': ['9', 'https://sh.lianjia.com/ershoufang/xinqiao/'],\n",
       " '松江大学城': ['15', 'https://sh.lianjia.com/ershoufang/songjiangdaxuecheng/'],\n",
       " '松江新城': ['15', 'https://sh.lianjia.com/ershoufang/songjiangxincheng/'],\n",
       " '松江老城': ['19', 'https://sh.lianjia.com/ershoufang/songjianglaocheng/'],\n",
       " '泗泾': ['26', 'https://sh.lianjia.com/ershoufang/sijing/'],\n",
       " '莘闵别墅': ['16', 'https://sh.lianjia.com/ershoufang/shenminbieshu/'],\n",
       " '车墩': ['3', 'https://sh.lianjia.com/ershoufang/chedun/']}"
      ]
     },
     "execution_count": 244,
     "metadata": {},
     "output_type": "execute_result"
    }
   ],
   "source": [
    "subarea_in100p"
   ]
  },
  {
   "cell_type": "code",
   "execution_count": 196,
   "metadata": {},
   "outputs": [
    {
     "data": {
      "text/plain": [
       "{'上海周边': 'shanghaizhoubian',\n",
       " '嘉定': 'jiading',\n",
       " '奉贤': 'fengxian',\n",
       " '宝山': 'baoshan',\n",
       " '崇明': 'chongming',\n",
       " '徐汇': 'xuhui',\n",
       " '普陀': 'putuo',\n",
       " '杨浦': 'yangpu',\n",
       " '松江': 'songjiang',\n",
       " '浦东': 'pudong',\n",
       " '虹口': 'hongkou',\n",
       " '金山': 'jinshan',\n",
       " '长宁': 'changning',\n",
       " '闵行': 'minhang',\n",
       " '闸北': 'zhabei',\n",
       " '青浦': 'qingpu',\n",
       " '静安': 'jingan',\n",
       " '黄浦': 'huangpu'}"
      ]
     },
     "execution_count": 196,
     "metadata": {},
     "output_type": "execute_result"
    }
   ],
   "source": [
    "areas_info = get_areas_info(root_res)\n",
    "areas_info"
   ]
  },
  {
   "cell_type": "code",
   "execution_count": 184,
   "metadata": {},
   "outputs": [],
   "source": [
    "def get_total_page(response):\n",
    "    \"\"\"获取区域信息对应的页面总数\"\"\"\n",
    "    total_page_element = html.fromstring(response.text).xpath('//div[@class=\"page-box house-lst-page-box\"]')[0]\n",
    "    return re.match(r'^\\{\\\"totalPage\\\":(\\d+).*\\}$',total_page_element.get('page-data')).group(1)\n",
    "    "
   ]
  },
  {
   "cell_type": "code",
   "execution_count": 238,
   "metadata": {},
   "outputs": [],
   "source": [
    "def pick_over100p_area(areas_info):\n",
    "    \"\"\"以1面总数是否超100对区域分类\"\"\"\n",
    "    area_in100p = {}\n",
    "    area_over100p = {}\n",
    "    for area_name,area_url in areas_info.items():\n",
    "        area_url = ERSHOUFANG_URL_ROOT + area_url + '/'\n",
    "        try:\n",
    "            response = requests.get(area_url)\n",
    "            total_page = get_total_page(response)\n",
    "            areas_info[area_name] = [total_page,area_url]\n",
    "        except:\n",
    "            print('err url{}'.format(area_url))\n",
    "            continue\n",
    "        if int(total_page) >= 100:\n",
    "            area_over100p[area_name] = [total_page,area_url]\n",
    "        else:\n",
    "            area_in100p[area_name] = [total_page,area_url]\n",
    "    return area_over100p,area_in100p"
   ]
  },
  {
   "cell_type": "code",
   "execution_count": 199,
   "metadata": {},
   "outputs": [],
   "source": [
    "area_over100p,area_in100p = pick_over100p_area(areas_info)"
   ]
  },
  {
   "cell_type": "code",
   "execution_count": 200,
   "metadata": {},
   "outputs": [
    {
     "data": {
      "text/plain": [
       "{'嘉定': ['100', 'https://sh.lianjia.com/ershoufang/jiading/'],\n",
       " '宝山': ['100', 'https://sh.lianjia.com/ershoufang/baoshan/'],\n",
       " '徐汇': ['100', 'https://sh.lianjia.com/ershoufang/xuhui/'],\n",
       " '普陀': ['100', 'https://sh.lianjia.com/ershoufang/putuo/'],\n",
       " '杨浦': ['100', 'https://sh.lianjia.com/ershoufang/yangpu/'],\n",
       " '松江': ['100', 'https://sh.lianjia.com/ershoufang/songjiang/'],\n",
       " '浦东': ['100', 'https://sh.lianjia.com/ershoufang/pudong/'],\n",
       " '闵行': ['100', 'https://sh.lianjia.com/ershoufang/minhang/']}"
      ]
     },
     "execution_count": 200,
     "metadata": {},
     "output_type": "execute_result"
    }
   ],
   "source": [
    "area_over100p"
   ]
  },
  {
   "cell_type": "code",
   "execution_count": 201,
   "metadata": {},
   "outputs": [
    {
     "data": {
      "text/plain": [
       "{'上海周边': ['2', 'https://sh.lianjia.com/ershoufang/shanghaizhoubian/'],\n",
       " '奉贤': ['73', 'https://sh.lianjia.com/ershoufang/fengxian/'],\n",
       " '崇明': ['2', 'https://sh.lianjia.com/ershoufang/chongming/'],\n",
       " '虹口': ['94', 'https://sh.lianjia.com/ershoufang/hongkou/'],\n",
       " '金山': ['3', 'https://sh.lianjia.com/ershoufang/jinshan/'],\n",
       " '长宁': ['91', 'https://sh.lianjia.com/ershoufang/changning/'],\n",
       " '闸北': ['94', 'https://sh.lianjia.com/ershoufang/zhabei/'],\n",
       " '青浦': ['77', 'https://sh.lianjia.com/ershoufang/qingpu/'],\n",
       " '静安': ['31', 'https://sh.lianjia.com/ershoufang/jingan/'],\n",
       " '黄浦': ['56', 'https://sh.lianjia.com/ershoufang/huangpu/']}"
      ]
     },
     "execution_count": 201,
     "metadata": {},
     "output_type": "execute_result"
    }
   ],
   "source": [
    "area_in100p"
   ]
  },
  {
   "cell_type": "code",
   "execution_count": 249,
   "metadata": {},
   "outputs": [
    {
     "data": {
      "text/plain": [
       "'7'"
      ]
     },
     "execution_count": 249,
     "metadata": {},
     "output_type": "execute_result"
    }
   ],
   "source": [
    "wantiguan = 'https://sh.lianjia.com/ershoufang/wantiguan/'\n",
    "response = requests.get(wantiguan)\n",
    "get_total_page(response)"
   ]
  },
  {
   "cell_type": "code",
   "execution_count": 280,
   "metadata": {},
   "outputs": [],
   "source": [
    "xin_file = 'sh_xin_loupan_details.csv'"
   ]
  },
  {
   "cell_type": "code",
   "execution_count": 279,
   "metadata": {},
   "outputs": [
    {
     "data": {
      "text/plain": [
       "'/home/gk07/Instances/Python-Pratices/lianjia_shanghai'"
      ]
     },
     "execution_count": 279,
     "metadata": {},
     "output_type": "execute_result"
    }
   ],
   "source": [
    "import os\n",
    "import csv\n",
    "os.getcwd()"
   ]
  },
  {
   "cell_type": "code",
   "execution_count": 313,
   "metadata": {},
   "outputs": [],
   "source": [
    "f = open(xin_file,'r')\n",
    "l = f.readline()"
   ]
  },
  {
   "cell_type": "code",
   "execution_count": 307,
   "metadata": {},
   "outputs": [],
   "source": [
    "TITLE_XIN = ['Name','Address','Productor','PorpertyCompany','Start-Time','Type','Delivery-Time','Plot-Ratio','LimitOfusingTime','Green-Rate','Planning-homesNum','Property-fee','Floor-Area','Building-Area','Price','DanWei']"
   ]
  },
  {
   "cell_type": "code",
   "execution_count": 318,
   "metadata": {},
   "outputs": [],
   "source": [
    "def parse_xin_detail(line):\n",
    "    Name,other = line.split(',',1)\n",
    "    des_text,price_text = eval(other)\n",
    "    des_text = eval(des_text)[1::2]\n",
    "    Address = des_text[0]\n",
    "    Productor,PorpertyCompany = des_text[2:4]\n",
    "    for x in '年月日':\n",
    "        des_text[4] = des_text[4].replace(x,'-')\n",
    "        des_text[6] = des_text[6].replace(x,'-')\n",
    "    Start_Time = des_text[4].strip()\n",
    "    Delivery_Time = des_text[6].strip()\n",
    "    Type = des_text[5]\n",
    "    if re.search(r'([\\d\\.]+)',des_text[7]):\n",
    "        Plot_Ratio = re.search(r'([\\d\\.]+)',des_text[7]).group(1)\n",
    "    else:\n",
    "        Plot_Ratio = ''\n",
    "    LimitOfusingTime = des_text[8]\n",
    "    if re.search(r'([\\d\\.]+%)',des_text[9]):\n",
    "        Green_Rate = re.search(r'([\\d\\.]+%)',des_text[9]).group(1)\n",
    "    else:\n",
    "        Green_Rate = ''\n",
    "    if re.search(r'([\\d]+)',des_text[10]):\n",
    "        Planning_homesNum = re.search(r'([\\d]+)',des_text[10]).group(1)\n",
    "    else:\n",
    "        Planning_homesNum = ''\n",
    "    if re.search(r'([\\d\\.]+)',des_text[11]):\n",
    "        Property_fee = re.search(r'([\\d\\.]+)',des_text[11]).group(1)\n",
    "    else:\n",
    "        Property_fee = ''\n",
    "    des_text[-2] = des_text[-2].replace(',','')\n",
    "    if re.search(r'([\\d]+)',des_text[-2]):\n",
    "        Floor_Area = re.search(r'([\\d]+)',des_text[-2]).group(1)\n",
    "    else:\n",
    "        Floor_Area = ''\n",
    "    if re.search(r'([\\d]+)',des_text[-1]):\n",
    "        Building_Area = re.search(r'([\\d]+)',des_text[-1]).group(1)\n",
    "    else:\n",
    "        Building_Area = ''\n",
    "    try:\n",
    "        price_list = eval(price_text)\n",
    "    except Exception:\n",
    "        price_list = []\n",
    "    if len(price_list) == 2:\n",
    "        Price = price_list[1]\n",
    "        DanWei = '元/平米'\n",
    "    elif len(price_list) == 3:\n",
    "        Price,DanWei = price_list[1:]\n",
    "    else:\n",
    "        Price = ''\n",
    "        DanWei = ''\n",
    "    return [Name,Address,Productor,PorpertyCompany,Start_Time,\n",
    "            Type,Delivery_Time,Plot_Ratio,LimitOfusingTime,\n",
    "            Green_Rate,Planning_homesNum,Property_fee,Floor_Area,\n",
    "            Building_Area,Price,DanWei]"
   ]
  },
  {
   "cell_type": "code",
   "execution_count": 319,
   "metadata": {},
   "outputs": [
    {
     "data": {
      "text/plain": [
       "['禹洲府',\n",
       " '富国路199弄',\n",
       " '上海灏溢房地产开发有限公司',\n",
       " '禹洲物业服务有限公司上海分公司',\n",
       " '2017-06-27-',\n",
       " '住宅',\n",
       " '2019-03-01-',\n",
       " '2.20',\n",
       " '70年',\n",
       " '35%',\n",
       " '1042',\n",
       " '4.5',\n",
       " '41262',\n",
       " '131',\n",
       " '350',\n",
       " '万/套']"
      ]
     },
     "execution_count": 319,
     "metadata": {},
     "output_type": "execute_result"
    }
   ],
   "source": [
    "parse_xin_detail(l)"
   ]
  },
  {
   "cell_type": "code",
   "execution_count": 321,
   "metadata": {},
   "outputs": [
    {
     "ename": "SyntaxError",
     "evalue": "invalid character in identifier (<ipython-input-321-53da0c14e2b4>, line 1)",
     "output_type": "error",
     "traceback": [
      "\u001b[0;36m  File \u001b[0;32m\"<ipython-input-321-53da0c14e2b4>\"\u001b[0;36m, line \u001b[0;32m1\u001b[0m\n\u001b[0;31m    tl = '森兰名轩,\"['项目地址：', '张扬北路东高路路口', '售楼处地址：', '兰谷路2500弄（接待时间9:0-15:0）', '开发商：', '上海同运置业有限公司', '物业公司：', '上海实业', '最新开盘：', '2017年04月12日', '物业类型：', '住宅', '交房时间：', '预计2018年04月', '容积率：', '1.20', '产权年限：', '70年', '绿化率：', '35%', '规划户数：', '426', '物业费用：', '3.9元/m²/月', '车位情况：', '地下车位数600', '供暖方式：', '暂无', '供水方式：', '民水', '供电方式：', '民电', '建筑类型：', '板楼', '嫌恶设施：', '暂无', '占地面积：', '53,000㎡', '建筑面积：', '95,000㎡']\",[]'\u001b[0m\n\u001b[0m                      ^\u001b[0m\n\u001b[0;31mSyntaxError\u001b[0m\u001b[0;31m:\u001b[0m invalid character in identifier\n"
     ]
    }
   ],
   "source": [
    "tl = '森兰名轩,\"['项目地址：', '张扬北路东高路路口', '售楼处地址：', '兰谷路2500弄（接待时间9:0-15:0）', '开发商：', '上海同运置业有限公司', '物业公司：', '上海实业', '最新开盘：', '2017年04月12日', '物业类型：', '住宅', '交房时间：', '预计2018年04月', '容积率：', '1.20', '产权年限：', '70年', '绿化率：', '35%', '规划户数：', '426', '物业费用：', '3.9元/m²/月', '车位情况：', '地下车位数600', '供暖方式：', '暂无', '供水方式：', '民水', '供电方式：', '民电', '建筑类型：', '板楼', '嫌恶设施：', '暂无', '占地面积：', '53,000㎡', '建筑面积：', '95,000㎡']\",[]'"
   ]
  },
  {
   "cell_type": "code",
   "execution_count": null,
   "metadata": {},
   "outputs": [],
   "source": []
  }
 ],
 "metadata": {
  "kernelspec": {
   "display_name": "Python 3",
   "language": "python",
   "name": "python3"
  },
  "language_info": {
   "codemirror_mode": {
    "name": "ipython",
    "version": 3
   },
   "file_extension": ".py",
   "mimetype": "text/x-python",
   "name": "python",
   "nbconvert_exporter": "python",
   "pygments_lexer": "ipython3",
   "version": "3.6.4"
  }
 },
 "nbformat": 4,
 "nbformat_minor": 2
}
